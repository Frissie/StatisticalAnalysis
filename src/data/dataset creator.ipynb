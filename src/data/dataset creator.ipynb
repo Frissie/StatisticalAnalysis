{
 "cells": [
  {
   "cell_type": "code",
   "execution_count": 2,
   "id": "c17ec83c",
   "metadata": {},
   "outputs": [],
   "source": [
    "import pandas as pd\n",
    "import numpy as np\n",
    "import random\n",
    "\n",
    "from faker import Faker\n",
    "\n",
    "data_dir = \"C:/Users/Blanc/DataScientist/StatisticalTesting/src/data/\""
   ]
  },
  {
   "cell_type": "markdown",
   "id": "54887a48",
   "metadata": {},
   "source": [
    "## Conversion Dataset"
   ]
  },
  {
   "cell_type": "code",
   "execution_count": 3,
   "id": "bc01d9cb",
   "metadata": {},
   "outputs": [],
   "source": [
    "# Initialize Faker with Belgian Dutch names (optional)\n",
    "fake = Faker(\"nl_BE\")\n",
    "\n",
    "# Number of rows\n",
    "n = 1000\n",
    "\n",
    "# Possible values for 'sector'\n",
    "sectors = [\"Insurer\", \"Broker\", \"Agent\"]\n",
    "\n",
    "# Generate random data\n",
    "data = {\n",
    "    \"sector\": [random.choices(sectors, weights=[0.25, 0.6, 0.15])[0] for _ in range(n)],\n",
    "    \"name\": [fake.first_name() + \" \" + fake.last_name() for _ in range(n)],\n",
    "    \"percentage\": [round(random.uniform(0, 100), 2) for _ in range(n)],\n",
    "}\n",
    "\n",
    "# Create DataFrame\n",
    "df = pd.DataFrame(data)\n",
    "\n",
    "# Cast dtypes\n",
    "df[\"sector\"] = df[\"sector\"].astype(\"category\")\n",
    "# Save to parquet\n",
    "data_dir = \"./\"  # change this if you want another folder\n",
    "df.to_parquet(data_dir + \"conversion.parquet\", index=False)"
   ]
  }
 ],
 "metadata": {
  "kernelspec": {
   "display_name": "statisticaltesting-er2xus-y-py3.13",
   "language": "python",
   "name": "python3"
  },
  "language_info": {
   "codemirror_mode": {
    "name": "ipython",
    "version": 3
   },
   "file_extension": ".py",
   "mimetype": "text/x-python",
   "name": "python",
   "nbconvert_exporter": "python",
   "pygments_lexer": "ipython3",
   "version": "3.13.6"
  }
 },
 "nbformat": 4,
 "nbformat_minor": 5
}
